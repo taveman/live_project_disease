{
 "cells": [
  {
   "cell_type": "code",
   "execution_count": 1,
   "metadata": {
    "collapsed": true,
    "pycharm": {
     "is_executing": false
    }
   },
   "outputs": [],
   "source": [
    "\"\"\"Module for parsing headlines from the source\"\"\"\n",
    "import re\n",
    "from collections import defaultdict\n",
    "\n",
    "import pandas\n",
    "import unicodedata\n",
    "import geonamescache\n"
   ]
  },
  {
   "cell_type": "code",
   "execution_count": 2,
   "outputs": [],
   "source": [
    "gc = geonamescache.GeonamesCache()\n",
    "all_cities = gc.get_cities()\n",
    "all_countries = gc.get_countries()\n",
    "\n",
    "prepared_dict = {}\n",
    "for record_id, city_data in all_cities.items():\n",
    "    prepared_city_name = unicodedata.normalize('NFKD', city_data['name']).encode('ascii', 'ignore').decode('utf-8')\n",
    "    prepared_dict[record_id] = re.compile(r'\\b{}\\b'.format(prepared_city_name))\n"
   ],
   "metadata": {
    "collapsed": false,
    "pycharm": {
     "name": "#%%\n",
     "is_executing": false
    }
   }
  },
  {
   "cell_type": "code",
   "execution_count": 4,
   "outputs": [],
   "source": [
    "# going to keep structure like the following, where score is a number of words in city that matches the header\n",
    "# {\n",
    "#   'Mystery Virus Spreads in Recife, Brazil': {'score': 1, 'city_name': 'Recife', 'county_name': 'Brazil'},\n",
    "#   'Zika Outbreak in Wichita Falls': {'score': 2, 'city_name': 'Wichita Falls', 'county_name': 'United States'}\n",
    "# }\n",
    "header_match_score = defaultdict(lambda : {'score': 0, 'city_name': '', 'county_name': ''})\n",
    "\n",
    "with open('./headlines.txt', 'r') as f_handler:\n",
    "    for headline in f_handler.readlines():\n",
    "        headline = headline.strip()\n",
    "        for record_id, reg_exp in prepared_dict.items():\n",
    "            res = re.search(reg_exp, unicodedata.normalize('NFKD', headline).encode('ascii', 'ignore').decode('utf-8'))\n",
    "            \n",
    "            if res and res.group(0):\n",
    "                city_name = all_cities[record_id].get('name')\n",
    "                city_score = len(city_name.split())\n",
    "                \n",
    "                if header_match_score[headline]['score'] < city_score:\n",
    "                    header_match_score[headline]['score'] = city_score\n",
    "                    header_match_score[headline]['city_name'] = city_name\n",
    "                    \n",
    "                    country_name = all_countries.get(all_cities[record_id]['countrycode'])\n",
    "                    if country_name:\n",
    "                        country_name = country_name.get('name')\n",
    "                        header_match_score[headline]['county_name'] = country_name"
   ],
   "metadata": {
    "collapsed": false,
    "pycharm": {
     "name": "#%%\n",
     "is_executing": false
    }
   }
  },
  {
   "cell_type": "code",
   "execution_count": 5,
   "outputs": [],
   "source": [
    "prepared_list_of_headers_and_cities = []\n",
    "for headline, data in header_match_score.items():\n",
    "    prepared_list_of_headers_and_cities.append((headline, data['city_name'], data['county_name']))\n",
    "    \n",
    "data_frame = pandas.DataFrame(columns=('headline', 'city', 'country'), data=prepared_list_of_headers_and_cities)"
   ],
   "metadata": {
    "collapsed": false,
    "pycharm": {
     "name": "#%%\n",
     "is_executing": false
    }
   }
  },
  {
   "cell_type": "code",
   "execution_count": 6,
   "outputs": [
    {
     "name": "stdout",
     "text": [
      "                                              headline           city  \\\n",
      "0                             Zika Outbreak Hits Miami          Miami   \n",
      "1                      Could Zika Reach New York City?  New York City   \n",
      "2                    First Case of Zika in Miami Beach    Miami Beach   \n",
      "3              Mystery Virus Spreads in Recife, Brazil         Recife   \n",
      "4              Dallas man comes down with case of Zika         Dallas   \n",
      "..                                                 ...            ...   \n",
      "601  Rumors about Rabies spreading in Jerusalem hav...      Jerusalem   \n",
      "602              More Zika patients reported in Indang         Indang   \n",
      "603  Suva authorities confirmed the spread of Rotav...           Suva   \n",
      "604         More Zika patients reported in Bella Vista    Bella Vista   \n",
      "605                     Zika Outbreak in Wichita Falls  Wichita Falls   \n",
      "\n",
      "           country  \n",
      "0    United States  \n",
      "1    United States  \n",
      "2    United States  \n",
      "3           Brazil  \n",
      "4    United States  \n",
      "..             ...  \n",
      "601         Israel  \n",
      "602    Philippines  \n",
      "603           Fiji  \n",
      "604      Argentina  \n",
      "605  United States  \n",
      "\n",
      "[606 rows x 3 columns]\n"
     ],
     "output_type": "stream"
    }
   ],
   "source": [
    "print(data_frame)\n"
   ],
   "metadata": {
    "collapsed": false,
    "pycharm": {
     "name": "#%%\n",
     "is_executing": false
    }
   }
  }
 ],
 "metadata": {
  "kernelspec": {
   "display_name": "Python 3",
   "language": "python",
   "name": "python3"
  },
  "language_info": {
   "codemirror_mode": {
    "name": "ipython",
    "version": 2
   },
   "file_extension": ".py",
   "mimetype": "text/x-python",
   "name": "python",
   "nbconvert_exporter": "python",
   "pygments_lexer": "ipython2",
   "version": "2.7.6"
  },
  "pycharm": {
   "stem_cell": {
    "cell_type": "raw",
    "source": [],
    "metadata": {
     "collapsed": false
    }
   }
  }
 },
 "nbformat": 4,
 "nbformat_minor": 0
}