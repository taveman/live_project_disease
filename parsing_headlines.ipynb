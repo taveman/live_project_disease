{
 "cells": [
  {
   "cell_type": "code",
   "execution_count": 9,
   "metadata": {
    "collapsed": true,
    "pycharm": {
     "is_executing": false
    }
   },
   "outputs": [],
   "source": [
    "\"\"\"Module for parsing headlines from the source\"\"\"\n",
    "import re\n",
    "from collections import defaultdict\n",
    "\n",
    "import pandas\n",
    "import unicodedata\n",
    "import geonamescache\n"
   ]
  },
  {
   "cell_type": "code",
   "execution_count": 10,
   "outputs": [],
   "source": [
    "gc = geonamescache.GeonamesCache()\n",
    "all_cities = gc.get_cities()\n",
    "all_countries = gc.get_countries()\n",
    "\n",
    "prepared_dict = {}\n",
    "for record_id, city_data in all_cities.items():\n",
    "    prepared_city_name = unicodedata.normalize('NFKD', city_data['name']).encode('ascii', 'ignore').decode('utf-8')\n",
    "    prepared_dict[record_id] = re.compile(r'\\b{}\\b'.format(prepared_city_name))\n"
   ],
   "metadata": {
    "collapsed": false,
    "pycharm": {
     "name": "#%%\n",
     "is_executing": false
    }
   }
  },
  {
   "cell_type": "code",
   "execution_count": 14,
   "outputs": [],
   "source": [
    "# going to keep structure like the following, where score is a number of words in city that matches the header\n",
    "# {\n",
    "#   'Mystery Virus Spreads in Recife, Brazil': {'score': 1, 'city_name': 'Recife', 'county_name': 'Brazil'},\n",
    "#   'Zika Outbreak in Wichita Falls': {'score': 2, 'city_name': 'Wichita Falls', 'county_name': 'United States'}\n",
    "# }\n",
    "header_match_score = defaultdict(lambda : {\n",
    "    'score': 0, 'city_name': '', 'county_name': '', 'longitude': '', 'latitude': ''\n",
    "})\n",
    "\n",
    "with open('./headlines.txt', 'r') as f_handler:\n",
    "    for headline in f_handler.readlines():\n",
    "        headline = headline.strip()\n",
    "        for record_id, reg_exp in prepared_dict.items():\n",
    "            res = re.search(reg_exp, unicodedata.normalize('NFKD', headline).encode('ascii', 'ignore').decode('utf-8'))\n",
    "            \n",
    "            if res and res.group(0):\n",
    "                city_name = all_cities[record_id].get('name')\n",
    "                city_score = len(city_name.split())\n",
    "                \n",
    "                if header_match_score[headline]['score'] < city_score:\n",
    "                    country_code = all_cities[record_id]['countrycode']\n",
    "                    country_name = all_countries.get(country_code)\n",
    "                    \n",
    "                    if country_name:\n",
    "                        country_name = country_name.get('name')\n",
    "                        latitude = all_cities[record_id]['latitude']\n",
    "                        longitude = all_cities[record_id]['longitude']\n",
    "                        \n",
    "                        header_match_score[headline]['score'] = city_score\n",
    "                        header_match_score[headline]['city_name'] = city_name\n",
    "                        header_match_score[headline]['county_name'] = country_name\n",
    "                        header_match_score[headline]['latitude'] = latitude\n",
    "                        header_match_score[headline]['longitude'] = longitude\n",
    "                        header_match_score[headline]['country_code'] = country_code"
   ],
   "metadata": {
    "collapsed": false,
    "pycharm": {
     "name": "#%%\n",
     "is_executing": false
    }
   }
  },
  {
   "cell_type": "code",
   "execution_count": 15,
   "outputs": [],
   "source": [
    "prepared_list_of_headers_and_cities = []\n",
    "for headline, data in header_match_score.items():\n",
    "    if not data['score'] == 0:\n",
    "        prepared_list_of_headers_and_cities.append(\n",
    "            (headline, data['city_name'], \n",
    "             data['county_name'], \n",
    "             data['country_code'], \n",
    "             data['latitude'], \n",
    "             data['longitude'])\n",
    "        )\n",
    "    \n",
    "data_frame = pandas.DataFrame(\n",
    "    columns=('headline', 'city', 'country', 'country_code', 'latitude', 'longitude'),\n",
    "    data=prepared_list_of_headers_and_cities)\n",
    "\n",
    "data_frame.to_json('./prepared_countries.json')"
   ],
   "metadata": {
    "collapsed": false,
    "pycharm": {
     "name": "#%%\n",
     "is_executing": false
    }
   }
  },
  {
   "cell_type": "code",
   "execution_count": 16,
   "outputs": [
    {
     "data": {
      "text/plain": "                                              headline           city  \\\n0                             Zika Outbreak Hits Miami          Miami   \n1                      Could Zika Reach New York City?  New York City   \n2                    First Case of Zika in Miami Beach    Miami Beach   \n3              Mystery Virus Spreads in Recife, Brazil         Recife   \n4              Dallas man comes down with case of Zika         Dallas   \n..                                                 ...            ...   \n601  Rumors about Rabies spreading in Jerusalem hav...      Jerusalem   \n602              More Zika patients reported in Indang         Indang   \n603  Suva authorities confirmed the spread of Rotav...           Suva   \n604         More Zika patients reported in Bella Vista    Bella Vista   \n605                     Zika Outbreak in Wichita Falls  Wichita Falls   \n\n           country country_code  latitude  longitude  \n0    United States           US  25.77427  -80.19366  \n1    United States           US  40.71427  -74.00597  \n2    United States           US  25.79065  -80.13005  \n3           Brazil           BR  -8.05389  -34.88111  \n4    United States           US  32.78306  -96.80667  \n..             ...          ...       ...        ...  \n601         Israel           IL  31.76904   35.21633  \n602    Philippines           PH  14.19528  120.87694  \n603           Fiji           FJ -18.14161  178.44149  \n604      Argentina           AR -27.03424  -65.30196  \n605  United States           US  33.91371  -98.49339  \n\n[606 rows x 6 columns]",
      "text/html": "<div>\n<style scoped>\n    .dataframe tbody tr th:only-of-type {\n        vertical-align: middle;\n    }\n\n    .dataframe tbody tr th {\n        vertical-align: top;\n    }\n\n    .dataframe thead th {\n        text-align: right;\n    }\n</style>\n<table border=\"1\" class=\"dataframe\">\n  <thead>\n    <tr style=\"text-align: right;\">\n      <th></th>\n      <th>headline</th>\n      <th>city</th>\n      <th>country</th>\n      <th>country_code</th>\n      <th>latitude</th>\n      <th>longitude</th>\n    </tr>\n  </thead>\n  <tbody>\n    <tr>\n      <th>0</th>\n      <td>Zika Outbreak Hits Miami</td>\n      <td>Miami</td>\n      <td>United States</td>\n      <td>US</td>\n      <td>25.77427</td>\n      <td>-80.19366</td>\n    </tr>\n    <tr>\n      <th>1</th>\n      <td>Could Zika Reach New York City?</td>\n      <td>New York City</td>\n      <td>United States</td>\n      <td>US</td>\n      <td>40.71427</td>\n      <td>-74.00597</td>\n    </tr>\n    <tr>\n      <th>2</th>\n      <td>First Case of Zika in Miami Beach</td>\n      <td>Miami Beach</td>\n      <td>United States</td>\n      <td>US</td>\n      <td>25.79065</td>\n      <td>-80.13005</td>\n    </tr>\n    <tr>\n      <th>3</th>\n      <td>Mystery Virus Spreads in Recife, Brazil</td>\n      <td>Recife</td>\n      <td>Brazil</td>\n      <td>BR</td>\n      <td>-8.05389</td>\n      <td>-34.88111</td>\n    </tr>\n    <tr>\n      <th>4</th>\n      <td>Dallas man comes down with case of Zika</td>\n      <td>Dallas</td>\n      <td>United States</td>\n      <td>US</td>\n      <td>32.78306</td>\n      <td>-96.80667</td>\n    </tr>\n    <tr>\n      <th>...</th>\n      <td>...</td>\n      <td>...</td>\n      <td>...</td>\n      <td>...</td>\n      <td>...</td>\n      <td>...</td>\n    </tr>\n    <tr>\n      <th>601</th>\n      <td>Rumors about Rabies spreading in Jerusalem hav...</td>\n      <td>Jerusalem</td>\n      <td>Israel</td>\n      <td>IL</td>\n      <td>31.76904</td>\n      <td>35.21633</td>\n    </tr>\n    <tr>\n      <th>602</th>\n      <td>More Zika patients reported in Indang</td>\n      <td>Indang</td>\n      <td>Philippines</td>\n      <td>PH</td>\n      <td>14.19528</td>\n      <td>120.87694</td>\n    </tr>\n    <tr>\n      <th>603</th>\n      <td>Suva authorities confirmed the spread of Rotav...</td>\n      <td>Suva</td>\n      <td>Fiji</td>\n      <td>FJ</td>\n      <td>-18.14161</td>\n      <td>178.44149</td>\n    </tr>\n    <tr>\n      <th>604</th>\n      <td>More Zika patients reported in Bella Vista</td>\n      <td>Bella Vista</td>\n      <td>Argentina</td>\n      <td>AR</td>\n      <td>-27.03424</td>\n      <td>-65.30196</td>\n    </tr>\n    <tr>\n      <th>605</th>\n      <td>Zika Outbreak in Wichita Falls</td>\n      <td>Wichita Falls</td>\n      <td>United States</td>\n      <td>US</td>\n      <td>33.91371</td>\n      <td>-98.49339</td>\n    </tr>\n  </tbody>\n</table>\n<p>606 rows × 6 columns</p>\n</div>"
     },
     "metadata": {},
     "output_type": "execute_result",
     "execution_count": 16
    }
   ],
   "source": [
    "data_frame\n"
   ],
   "metadata": {
    "collapsed": false,
    "pycharm": {
     "name": "#%%\n",
     "is_executing": false
    }
   }
  }
 ],
 "metadata": {
  "kernelspec": {
   "display_name": "Python 3",
   "language": "python",
   "name": "python3"
  },
  "language_info": {
   "codemirror_mode": {
    "name": "ipython",
    "version": 2
   },
   "file_extension": ".py",
   "mimetype": "text/x-python",
   "name": "python",
   "nbconvert_exporter": "python",
   "pygments_lexer": "ipython2",
   "version": "2.7.6"
  },
  "pycharm": {
   "stem_cell": {
    "cell_type": "raw",
    "source": [],
    "metadata": {
     "collapsed": false
    }
   }
  }
 },
 "nbformat": 4,
 "nbformat_minor": 0
}